from bs4 import BeautifulSoup
import requests

url = 'https://www.fundsexplorer.com.br/ranking'
requisicao = requests.get(url)
soup = BeautifulSoup(requisicao.content, 'html.parser')

soup.findAll("table", {"class": "table table-hover"})
Dy12M = str(input("Digite o DY MÉDIO mínimo dos últimos 12 meses desejado: "))
PVPAmin = str(input("Digite o P/VPA mínimo desejado: "))
PVPAmax = str(input("Digite o P/VPA máximo desejado: "))
QtdAtivosMin = str(input("Digite a Quantidade Mínima de Ativos Desejado: "))
print()

for tabela in soup.findAll('tr'):
  cont = 0
  cont2 = 0
  for line in tabela.findAll('td'):
    # Adiciona os atributos da linha em variáveis temporárias 
    cont += 1
    if cont == 1:
      codigoFII = line.getText()
    elif cont == 2: 
      setor = line.getText()
    elif cont == 3: 
      precoAtual = line.getText()
    elif cont == 4:
      liqDiaria = line.getText()
    elif cont == 5: 
      ultDividendos = line.getText()
    elif cont == 6: 
      dividendYield = line.getText()
    elif cont == 12: 
      dyMedia12Meses = line.getText()
    elif cont == 13: 
      dyAno = line.getText()
    elif cont == 19: 
      preco_VPA = line.getText()
    elif cont == 26:
      qtdAtivos = line.getText()

    # Executa o filtro de Pesquisa
    elif dyMedia12Meses > Dy12M and preco_VPA > PVPAmin and preco_VPA < PVPAmax and qtdAtivos > QtdAtivosMin and cont2 == 0:
      print(f'Código do Fundo: {codigoFII} | Setor: {setor} | Preço Atual: {precoAtual} | Liquidez Diária: {liqDiaria} | Últimos Dividendos: {ultDividendos} | DY: {dividendYield} | DY Médio 12M: {dyMedia12Meses} | DY Acumulado do ANo: {dyAno} | P/VPA: {preco_VPA} | QUantidade de Ativos: {qtdAtivos}')
      print(" ")
      cont2 += 1
